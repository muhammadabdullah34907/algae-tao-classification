{
 "cells": [
  {
   "cell_type": "code",
   "execution_count": 1,
   "id": "8c15cf16",
   "metadata": {},
   "outputs": [
    {
     "name": "stdout",
     "output_type": "stream",
     "text": [
      "env: KEY=nvidia_tlt\n",
      "env: NUM_GPUS=1\n"
     ]
    }
   ],
   "source": [
    "import os\n",
    "\n",
    "%env KEY=nvidia_tlt\n",
    "%env NUM_GPUS=1"
   ]
  },
  {
   "cell_type": "code",
   "execution_count": 2,
   "id": "f873899d",
   "metadata": {},
   "outputs": [],
   "source": [
    "!tao classification inference -e specs/classification_retrain_spec.cfg \\\n",
    "                          -m classification/output_retrain/weights/resnet_046.tlt \\\n",
    "                          -k $KEY -b 32 -d test_images \\\n",
    "                          -cm classification/output_retrain/classmap.json"
   ]
  },
  {
   "cell_type": "code",
   "execution_count": 3,
   "id": "107e61f1",
   "metadata": {},
   "outputs": [],
   "source": [
    "import matplotlib.pyplot as plt\n",
    "from PIL import Image \n",
    "import os\n",
    "import csv\n",
    "from math import ceil\n",
    "\n",
    "csv_path = 'test_images/result.csv'\n",
    "results = []\n",
    "with open(csv_path) as csv_file:\n",
    "    csv_reader = csv.reader(csv_file, delimiter=',')\n",
    "    for row in csv_reader:\n",
    "        results.append((row[0], row[1]))\n",
    "\n",
    "w,h = 200,200\n",
    "fig = plt.figure(figsize=(30,30))\n",
    "columns = 5\n",
    "rows = 1\n",
    "for i in range(1, columns*rows + 1):\n",
    "    ax = fig.add_subplot(rows, columns,i)\n",
    "    img = Image.open(results[i][0]))\n",
    "    img = img.resize((w,h), Image.ANTIALIAS)\n",
    "    plt.imshow(img)\n",
    "    ax.set_title(results[i][1], fontsize=40)"
   ]
  },
  {
   "cell_type": "code",
   "execution_count": null,
   "id": "78a0a3f4",
   "metadata": {},
   "outputs": [],
   "source": []
  }
 ],
 "metadata": {
  "kernelspec": {
   "display_name": "Python 3",
   "language": "python",
   "name": "python3"
  },
  "language_info": {
   "codemirror_mode": {
    "name": "ipython",
    "version": 3
   },
   "file_extension": ".py",
   "mimetype": "text/x-python",
   "name": "python",
   "nbconvert_exporter": "python",
   "pygments_lexer": "ipython3",
   "version": "3.6.15"
  }
 },
 "nbformat": 4,
 "nbformat_minor": 5
}
